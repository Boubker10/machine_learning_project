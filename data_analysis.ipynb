{
 "cells": [
  {
   "cell_type": "code",
   "execution_count": 13,
   "metadata": {},
   "outputs": [],
   "source": [
    "import pandas as pd \n",
    "import matplotlib.pyplot as plt\n",
    "import numpy as np\n",
    "import plotly.graph_objects as go\n",
    "import plotly.express as px"
   ]
  },
  {
   "cell_type": "code",
   "execution_count": 2,
   "metadata": {},
   "outputs": [],
   "source": [
    "data = pd.read_csv('test.csv')"
   ]
  },
  {
   "cell_type": "code",
   "execution_count": 3,
   "metadata": {},
   "outputs": [
    {
     "data": {
      "text/html": [
       "<div>\n",
       "<style scoped>\n",
       "    .dataframe tbody tr th:only-of-type {\n",
       "        vertical-align: middle;\n",
       "    }\n",
       "\n",
       "    .dataframe tbody tr th {\n",
       "        vertical-align: top;\n",
       "    }\n",
       "\n",
       "    .dataframe thead th {\n",
       "        text-align: right;\n",
       "    }\n",
       "</style>\n",
       "<table border=\"1\" class=\"dataframe\">\n",
       "  <thead>\n",
       "    <tr style=\"text-align: right;\">\n",
       "      <th></th>\n",
       "      <th>Unnamed: 0</th>\n",
       "      <th>card_transaction_id</th>\n",
       "      <th>member_role</th>\n",
       "      <th>time_settled</th>\n",
       "      <th>local_amount_currency</th>\n",
       "      <th>price_plan_subgroup_at_time</th>\n",
       "      <th>legal_country</th>\n",
       "      <th>card_id</th>\n",
       "      <th>card_level_name</th>\n",
       "      <th>is_physical</th>\n",
       "      <th>payment_method</th>\n",
       "      <th>reading_method_group_name</th>\n",
       "      <th>counterparty_country_code</th>\n",
       "      <th>movement_amount_euros</th>\n",
       "      <th>is_fraud</th>\n",
       "      <th>time_settled_diff</th>\n",
       "      <th>time_settled_diff2</th>\n",
       "    </tr>\n",
       "  </thead>\n",
       "  <tbody>\n",
       "    <tr>\n",
       "      <th>0</th>\n",
       "      <td>372474</td>\n",
       "      <td>210810b7-a5b9-4589-8bde-44901f6ca08b</td>\n",
       "      <td>owner</td>\n",
       "      <td>2022-01-26 20:38:35.606157</td>\n",
       "      <td>EUR</td>\n",
       "      <td>solo_basic</td>\n",
       "      <td>FR</td>\n",
       "      <td>441e3131-64ec-403a-bc4d-06a966dc30da</td>\n",
       "      <td>physical_one</td>\n",
       "      <td>True</td>\n",
       "      <td>non applicable</td>\n",
       "      <td>Other</td>\n",
       "      <td>IE</td>\n",
       "      <td>-0.39</td>\n",
       "      <td>0</td>\n",
       "      <td>80801</td>\n",
       "      <td>81087</td>\n",
       "    </tr>\n",
       "    <tr>\n",
       "      <th>1</th>\n",
       "      <td>568756</td>\n",
       "      <td>d5536a7f-c27a-4d54-871a-afb70cb5e7a4</td>\n",
       "      <td>owner</td>\n",
       "      <td>2022-12-02 17:58:16.532703</td>\n",
       "      <td>EUR</td>\n",
       "      <td>team_essential</td>\n",
       "      <td>FR</td>\n",
       "      <td>d6aef5de-719c-467c-9f57-1f6f8e7f2b90</td>\n",
       "      <td>physical_one</td>\n",
       "      <td>True</td>\n",
       "      <td>non applicable</td>\n",
       "      <td>Other</td>\n",
       "      <td>IE</td>\n",
       "      <td>-5.56</td>\n",
       "      <td>0</td>\n",
       "      <td>80801</td>\n",
       "      <td>81087</td>\n",
       "    </tr>\n",
       "    <tr>\n",
       "      <th>2</th>\n",
       "      <td>367096</td>\n",
       "      <td>d4b58166-48fe-40a1-b6da-ce96a4de8fb7</td>\n",
       "      <td>owner</td>\n",
       "      <td>2022-08-19 16:32:14.966736</td>\n",
       "      <td>USD</td>\n",
       "      <td>solo_basic</td>\n",
       "      <td>IT</td>\n",
       "      <td>f4b90919-2dc0-4b63-b38c-d048aebd88bb</td>\n",
       "      <td>physical_one</td>\n",
       "      <td>True</td>\n",
       "      <td>online</td>\n",
       "      <td>VAD</td>\n",
       "      <td>IE</td>\n",
       "      <td>19.85</td>\n",
       "      <td>1</td>\n",
       "      <td>80801</td>\n",
       "      <td>81087</td>\n",
       "    </tr>\n",
       "    <tr>\n",
       "      <th>3</th>\n",
       "      <td>293504</td>\n",
       "      <td>ef1c94c4-3e64-4dd6-b3f8-de6eee3987d0</td>\n",
       "      <td>owner</td>\n",
       "      <td>2022-08-19 16:42:26.244328</td>\n",
       "      <td>VND</td>\n",
       "      <td>solo_basic</td>\n",
       "      <td>IT</td>\n",
       "      <td>f4b90919-2dc0-4b63-b38c-d048aebd88bb</td>\n",
       "      <td>physical_one</td>\n",
       "      <td>True</td>\n",
       "      <td>online</td>\n",
       "      <td>VAD</td>\n",
       "      <td>IE</td>\n",
       "      <td>894.17</td>\n",
       "      <td>1</td>\n",
       "      <td>611</td>\n",
       "      <td>81087</td>\n",
       "    </tr>\n",
       "    <tr>\n",
       "      <th>4</th>\n",
       "      <td>92</td>\n",
       "      <td>f88d66e4-3f33-4bc1-9ca4-fc08797c492a</td>\n",
       "      <td>owner</td>\n",
       "      <td>2022-08-19 16:42:58.628298</td>\n",
       "      <td>VND</td>\n",
       "      <td>solo_basic</td>\n",
       "      <td>IT</td>\n",
       "      <td>f4b90919-2dc0-4b63-b38c-d048aebd88bb</td>\n",
       "      <td>physical_one</td>\n",
       "      <td>True</td>\n",
       "      <td>online</td>\n",
       "      <td>VAD</td>\n",
       "      <td>IE</td>\n",
       "      <td>1061.53</td>\n",
       "      <td>1</td>\n",
       "      <td>32</td>\n",
       "      <td>643</td>\n",
       "    </tr>\n",
       "  </tbody>\n",
       "</table>\n",
       "</div>"
      ],
      "text/plain": [
       "   Unnamed: 0                   card_transaction_id member_role  \\\n",
       "0      372474  210810b7-a5b9-4589-8bde-44901f6ca08b       owner   \n",
       "1      568756  d5536a7f-c27a-4d54-871a-afb70cb5e7a4       owner   \n",
       "2      367096  d4b58166-48fe-40a1-b6da-ce96a4de8fb7       owner   \n",
       "3      293504  ef1c94c4-3e64-4dd6-b3f8-de6eee3987d0       owner   \n",
       "4          92  f88d66e4-3f33-4bc1-9ca4-fc08797c492a       owner   \n",
       "\n",
       "                 time_settled local_amount_currency  \\\n",
       "0  2022-01-26 20:38:35.606157                   EUR   \n",
       "1  2022-12-02 17:58:16.532703                   EUR   \n",
       "2  2022-08-19 16:32:14.966736                   USD   \n",
       "3  2022-08-19 16:42:26.244328                   VND   \n",
       "4  2022-08-19 16:42:58.628298                   VND   \n",
       "\n",
       "  price_plan_subgroup_at_time legal_country  \\\n",
       "0                  solo_basic            FR   \n",
       "1              team_essential            FR   \n",
       "2                  solo_basic            IT   \n",
       "3                  solo_basic            IT   \n",
       "4                  solo_basic            IT   \n",
       "\n",
       "                                card_id card_level_name  is_physical  \\\n",
       "0  441e3131-64ec-403a-bc4d-06a966dc30da    physical_one         True   \n",
       "1  d6aef5de-719c-467c-9f57-1f6f8e7f2b90    physical_one         True   \n",
       "2  f4b90919-2dc0-4b63-b38c-d048aebd88bb    physical_one         True   \n",
       "3  f4b90919-2dc0-4b63-b38c-d048aebd88bb    physical_one         True   \n",
       "4  f4b90919-2dc0-4b63-b38c-d048aebd88bb    physical_one         True   \n",
       "\n",
       "   payment_method reading_method_group_name counterparty_country_code  \\\n",
       "0  non applicable                     Other                        IE   \n",
       "1  non applicable                     Other                        IE   \n",
       "2          online                       VAD                        IE   \n",
       "3          online                       VAD                        IE   \n",
       "4          online                       VAD                        IE   \n",
       "\n",
       "   movement_amount_euros  is_fraud  time_settled_diff  time_settled_diff2  \n",
       "0                  -0.39         0              80801               81087  \n",
       "1                  -5.56         0              80801               81087  \n",
       "2                  19.85         1              80801               81087  \n",
       "3                 894.17         1                611               81087  \n",
       "4                1061.53         1                 32                 643  "
      ]
     },
     "execution_count": 3,
     "metadata": {},
     "output_type": "execute_result"
    }
   ],
   "source": [
    "data.head()"
   ]
  },
  {
   "cell_type": "code",
   "execution_count": 4,
   "metadata": {},
   "outputs": [
    {
     "data": {
      "text/plain": [
       "is_fraud\n",
       "0    585911\n",
       "1      1392\n",
       "Name: count, dtype: int64"
      ]
     },
     "execution_count": 4,
     "metadata": {},
     "output_type": "execute_result"
    }
   ],
   "source": [
    "data['is_fraud'].value_counts()"
   ]
  },
  {
   "cell_type": "code",
   "execution_count": 5,
   "metadata": {},
   "outputs": [
    {
     "data": {
      "image/png": "[encoded data removed]",
      "text/plain": [
       "<Figure size 640x480 with 1 Axes>"
      ]
     },
     "metadata": {},
     "output_type": "display_data"
    }
   ],
   "source": [
    "plot = data['is_fraud'].value_counts().plot(kind='bar', title='Fraudulent transactions')\n",
    "plt.show()"
   ]
  },
  {
   "cell_type": "code",
   "execution_count": 6,
   "metadata": {},
   "outputs": [
    {
     "name": "stdout",
     "output_type": "stream",
     "text": [
      "Total number of transactions: 587303\n",
      "Proportion of fraudulent transactions: 0.0023701564609749995\n",
      "Average amount of fraudulent transactions (€): 585.6158333333333\n",
      "Average amount of non-fraudulent transactions (€): 261.5917433705802\n",
      "\n",
      "Fraudulent transactions hourly distribution:\n",
      "hour\n",
      "10      1\n",
      "16    186\n",
      "17    595\n",
      "18    419\n",
      "19    112\n",
      "20     43\n",
      "21     14\n",
      "22     20\n",
      "23      2\n",
      "Name: count, dtype: int64\n",
      "\n",
      "Non-fraudulent transactions hourly distribution:\n",
      "hour\n",
      "0       1753\n",
      "1        497\n",
      "2        128\n",
      "3         99\n",
      "7         90\n",
      "8        309\n",
      "9        894\n",
      "10      1142\n",
      "11       406\n",
      "12        14\n",
      "14        27\n",
      "15       505\n",
      "16     63771\n",
      "17    177522\n",
      "18    156740\n",
      "19     69578\n",
      "20     43512\n",
      "21     36343\n",
      "22     23277\n",
      "23      9304\n",
      "Name: count, dtype: int64\n"
     ]
    }
   ],
   "source": [
    "data['time_settled'] = pd.to_datetime(data['time_settled'])\n",
    "total_transactions = data.shape[0]\n",
    "fraud_transactions = data['is_fraud'].sum()\n",
    "proportion_fraud = fraud_transactions / total_transactions\n",
    "average_fraud_amount = data[data['is_fraud'] == 1]['movement_amount_euros'].mean()\n",
    "average_non_fraud_amount = data[data['is_fraud'] == 0]['movement_amount_euros'].mean()\n",
    "data['hour'] = data['time_settled'].dt.hour\n",
    "fraud_hourly_distribution = data[data['is_fraud'] == 1]['hour'].value_counts().sort_index()\n",
    "non_fraud_hourly_distribution = data[data['is_fraud'] == 0]['hour'].value_counts().sort_index()\n",
    "print(\"Total number of transactions:\", total_transactions)\n",
    "print(\"Proportion of fraudulent transactions:\", proportion_fraud)\n",
    "print(\"Average amount of fraudulent transactions (€):\", average_fraud_amount)\n",
    "print(\"Average amount of non-fraudulent transactions (€):\", average_non_fraud_amount)\n",
    "print(\"\\nFraudulent transactions hourly distribution:\")\n",
    "print(fraud_hourly_distribution)\n",
    "print(\"\\nNon-fraudulent transactions hourly distribution:\")\n",
    "print(non_fraud_hourly_distribution)"
   ]
  },
  {
   "cell_type": "code",
   "execution_count": 7,
   "metadata": {},
   "outputs": [
    {
     "data": {
      "application/vnd.plotly.v1+json": {
       "config": {
        "plotlyServerURL": "https://plot.ly"
       },
       "data": [
        {
         "name": "Fraudulent transactions",
         "type": "bar",
         "x": [
          10,
          16,
          17,
          18,
          19,
          20,
          21,
          22,
          23
         ],
         "y": [
          1,
          186,
          595,
          419,
          112,
          43,
          14,
          20,
          2
         ]
        },
        {
         "name": "Non-fraudulent transactions",
         "type": "bar",
         "x": [
          0,
          1,
          2,
          3,
          7,
          8,
          9,
          10,
          11,
          12,
          14,
          15,
          16,
          17,
          18,
          19,
          20,
          21,
          22,
          23
         ],
         "y": [
          1753,
          497,
          128,
          99,
          90,
          309,
          894,
          1142,
          406,
          14,
          27,
          505,
          63771,
          177522,
          156740,
          69578,
          43512,
          36343,
          23277,
          9304
         ]
        }
       ],
       "layout": {
        "template": {
         "data": {
          "bar": [
           {
            "error_x": {
             "color": "#2a3f5f"
            },
            "error_y": {
             "color": "#2a3f5f"
            },
            "marker": {
             "line": {
              "color": "#E5ECF6",
              "width": 0.5
             },
             "pattern": {
              "fillmode": "overlay",
              "size": 10,
              "solidity": 0.2
             }
            },
            "type": "bar"
           }
          ],
          "barpolar": [
           {
            "marker": {
             "line": {
              "color": "#E5ECF6",
              "width": 0.5
             },
             "pattern": {
              "fillmode": "overlay",
              "size": 10,
              "solidity": 0.2
             }
            },
            "type": "barpolar"
           }
          ],
          "carpet": [
           {
            "aaxis": {
             "endlinecolor": "#2a3f5f",
             "gridcolor": "white",
             "linecolor": "white",
             "minorgridcolor": "white",
             "startlinecolor": "#2a3f5f"
            },
            "baxis": {
             "endlinecolor": "#2a3f5f",
             "gridcolor": "white",
             "linecolor": "white",
             "minorgridcolor": "white",
             "startlinecolor": "#2a3f5f"
            },
            "type": "carpet"
           }
          ],
          "choropleth": [
           {
            "colorbar": {
             "outlinewidth": 0,
             "ticks": ""
            },
            "type": "choropleth"
           }
          ],
          "contour": [
           {
            "colorbar": {
             "outlinewidth": 0,
             "ticks": ""
            },
            "colorscale": [
             [
              0,
              "#0d0887"
             ],
             [
              0.1111111111111111,
              "#46039f"
             ],
             [
              0.2222222222222222,
              "#7201a8"
             ],
             [
              0.3333333333333333,
              "#9c179e"
             ],
             [
              0.4444444444444444,
              "#bd3786"
             ],
             [
              0.5555555555555556,
              "#d8576b"
             ],
             [
              0.6666666666666666,
              "#ed7953"
             ],
             [
              0.7777777777777778,
              "#fb9f3a"
             ],
             [
              0.8888888888888888,
              "#fdca26"
             ],
             [
              1,
              "#f0f921"
             ]
            ],
            "type": "contour"
           }
          ],
          "contourcarpet": [
           {
            "colorbar": {
             "outlinewidth": 0,
             "ticks": ""
            },
            "type": "contourcarpet"
           }
          ],
          "heatmap": [
           {
            "colorbar": {
             "outlinewidth": 0,
             "ticks": ""
            },
            "colorscale": [
             [
              0,
              "#0d0887"
             ],
             [
              0.1111111111111111,
              "#46039f"
             ],
             [
              0.2222222222222222,
              "#7201a8"
             ],
             [
              0.3333333333333333,
              "#9c179e"
             ],
             [
              0.4444444444444444,
              "#bd3786"
             ],
             [
              0.5555555555555556,
              "#d8576b"
             ],
             [
              0.6666666666666666,
              "#ed7953"
             ],
             [
              0.7777777777777778,
              "#fb9f3a"
             ],
             [
              0.8888888888888888,
              "#fdca26"
             ],
             [
              1,
              "#f0f921"
             ]
            ],
            "type": "heatmap"
           }
          ],
          "heatmapgl": [
           {
            "colorbar": {
             "outlinewidth": 0,
             "ticks": ""
            },
            "colorscale": [
             [
              0,
              "#0d0887"
             ],
             [
              0.1111111111111111,
              "#46039f"
             ],
             [
              0.2222222222222222,
              "#7201a8"
             ],
             [
              0.3333333333333333,
              "#9c179e"
             ],
             [
              0.4444444444444444,
              "#bd3786"
             ],
             [
              0.5555555555555556,
              "#d8576b"
             ],
             [
              0.6666666666666666,
              "#ed7953"
             ],
             [
              0.7777777777777778,
              "#fb9f3a"
             ],
             [
              0.8888888888888888,
              "#fdca26"
             ],
             [
              1,
              "#f0f921"
             ]
            ],
            "type": "heatmapgl"
           }
          ],
          "histogram": [
           {
            "marker": {
             "pattern": {
              "fillmode": "overlay",
              "size": 10,
              "solidity": 0.2
             }
            },
            "type": "histogram"
           }
          ],
          "histogram2d": [
           {
            "colorbar": {
             "outlinewidth": 0,
             "ticks": ""
            },
            "colorscale": [
             [
              0,
              "#0d0887"
             ],
             [
              0.1111111111111111,
              "#46039f"
             ],
             [
              0.2222222222222222,
              "#7201a8"
             ],
             [
              0.3333333333333333,
              "#9c179e"
             ],
             [
              0.4444444444444444,
              "#bd3786"
             ],
             [
              0.5555555555555556,
              "#d8576b"
             ],
             [
              0.6666666666666666,
              "#ed7953"
             ],
             [
              0.7777777777777778,
              "#fb9f3a"
             ],
             [
              0.8888888888888888,
              "#fdca26"
             ],
             [
              1,
              "#f0f921"
             ]
            ],
            "type": "histogram2d"
           }
          ],
          "histogram2dcontour": [
           {
            "colorbar": {
             "outlinewidth": 0,
             "ticks": ""
            },
            "colorscale": [
             [
              0,
              "#0d0887"
             ],
             [
              0.1111111111111111,
              "#46039f"
             ],
             [
              0.2222222222222222,
              "#7201a8"
             ],
             [
              0.3333333333333333,
              "#9c179e"
             ],
             [
              0.4444444444444444,
              "#bd3786"
             ],
             [
              0.5555555555555556,
              "#d8576b"
             ],
             [
              0.6666666666666666,
              "#ed7953"
             ],
             [
              0.7777777777777778,
              "#fb9f3a"
             ],
             [
              0.8888888888888888,
              "#fdca26"
             ],
             [
              1,
              "#f0f921"
             ]
            ],
            "type": "histogram2dcontour"
           }
          ],
          "mesh3d": [
           {
            "colorbar": {
             "outlinewidth": 0,
             "ticks": ""
            },
            "type": "mesh3d"
           }
          ],
          "parcoords": [
           {
            "line": {
             "colorbar": {
              "outlinewidth": 0,
              "ticks": ""
             }
            },
            "type": "parcoords"
           }
          ],
          "pie": [
           {
            "automargin": true,
            "type": "pie"
           }
          ],
          "scatter": [
           {
            "fillpattern": {
             "fillmode": "overlay",
             "size": 10,
             "solidity": 0.2
            },
            "type": "scatter"
           }
          ],
          "scatter3d": [
           {
            "line": {
             "colorbar": {
              "outlinewidth": 0,
              "ticks": ""
             }
            },
            "marker": {
             "colorbar": {
              "outlinewidth": 0,
              "ticks": ""
             }
            },
            "type": "scatter3d"
           }
          ],
          "scattercarpet": [
           {
            "marker": {
             "colorbar": {
              "outlinewidth": 0,
              "ticks": ""
             }
            },
            "type": "scattercarpet"
           }
          ],
          "scattergeo": [
           {
            "marker": {
             "colorbar": {
              "outlinewidth": 0,
              "ticks": ""
             }
            },
            "type": "scattergeo"
           }
          ],
          "scattergl": [
           {
            "marker": {
             "colorbar": {
              "outlinewidth": 0,
              "ticks": ""
             }
            },
            "type": "scattergl"
           }
          ],
          "scattermapbox": [
           {
            "marker": {
             "colorbar": {
              "outlinewidth": 0,
              "ticks": ""
             }
            },
            "type": "scattermapbox"
           }
          ],
          "scatterpolar": [
           {
            "marker": {
             "colorbar": {
              "outlinewidth": 0,
              "ticks": ""
             }
            },
            "type": "scatterpolar"
           }
          ],
          "scatterpolargl": [
           {
            "marker": {
             "colorbar": {
              "outlinewidth": 0,
              "ticks": ""
             }
            },
            "type": "scatterpolargl"
           }
          ],
          "scatterternary": [
           {
            "marker": {
             "colorbar": {
              "outlinewidth": 0,
              "ticks": ""
             }
            },
            "type": "scatterternary"
           }
          ],
          "surface": [
           {
            "colorbar": {
             "outlinewidth": 0,
             "ticks": ""
            },
            "colorscale": [
             [
              0,
              "#0d0887"
             ],
             [
              0.1111111111111111,
              "#46039f"
             ],
             [
              0.2222222222222222,
              "#7201a8"
             ],
             [
              0.3333333333333333,
              "#9c179e"
             ],
             [
              0.4444444444444444,
              "#bd3786"
             ],
             [
              0.5555555555555556,
              "#d8576b"
             ],
             [
              0.6666666666666666,
              "#ed7953"
             ],
             [
              0.7777777777777778,
              "#fb9f3a"
             ],
             [
              0.8888888888888888,
              "#fdca26"
             ],
             [
              1,
              "#f0f921"
             ]
            ],
            "type": "surface"
           }
          ],
          "table": [
           {
            "cells": {
             "fill": {
              "color": "#EBF0F8"
             },
             "line": {
              "color": "white"
             }
            },
            "header": {
             "fill": {
              "color": "#C8D4E3"
             },
             "line": {
              "color": "white"
             }
            },
            "type": "table"
           }
          ]
         },
         "layout": {
          "annotationdefaults": {
           "arrowcolor": "#2a3f5f",
           "arrowhead": 0,
           "arrowwidth": 1
          },
          "autotypenumbers": "strict",
          "coloraxis": {
           "colorbar": {
            "outlinewidth": 0,
            "ticks": ""
           }
          },
          "colorscale": {
           "diverging": [
            [
             0,
             "#8e0152"
            ],
            [
             0.1,
             "#c51b7d"
            ],
            [
             0.2,
             "#de77ae"
            ],
            [
             0.3,
             "#f1b6da"
            ],
            [
             0.4,
             "#fde0ef"
            ],
            [
             0.5,
             "#f7f7f7"
            ],
            [
             0.6,
             "#e6f5d0"
            ],
            [
             0.7,
             "#b8e186"
            ],
            [
             0.8,
             "#7fbc41"
            ],
            [
             0.9,
             "#4d9221"
            ],
            [
             1,
             "#276419"
            ]
           ],
           "sequential": [
            [
             0,
             "#0d0887"
            ],
            [
             0.1111111111111111,
             "#46039f"
            ],
            [
             0.2222222222222222,
             "#7201a8"
            ],
            [
             0.3333333333333333,
             "#9c179e"
            ],
            [
             0.4444444444444444,
             "#bd3786"
            ],
            [
             0.5555555555555556,
             "#d8576b"
            ],
            [
             0.6666666666666666,
             "#ed7953"
            ],
            [
             0.7777777777777778,
             "#fb9f3a"
            ],
            [
             0.8888888888888888,
             "#fdca26"
            ],
            [
             1,
             "#f0f921"
            ]
           ],
           "sequentialminus": [
            [
             0,
             "#0d0887"
            ],
            [
             0.1111111111111111,
             "#46039f"
            ],
            [
             0.2222222222222222,
             "#7201a8"
            ],
            [
             0.3333333333333333,
             "#9c179e"
            ],
            [
             0.4444444444444444,
             "#bd3786"
            ],
            [
             0.5555555555555556,
             "#d8576b"
            ],
            [
             0.6666666666666666,
             "#ed7953"
            ],
            [
             0.7777777777777778,
             "#fb9f3a"
            ],
            [
             0.8888888888888888,
             "#fdca26"
            ],
            [
             1,
             "#f0f921"
            ]
           ]
          },
          "colorway": [
           "#636efa",
           "#EF553B",
           "#00cc96",
           "#ab63fa",
           "#FFA15A",
           "#19d3f3",
           "#FF6692",
           "#B6E880",
           "#FF97FF",
           "#FECB52"
          ],
          "font": {
           "color": "#2a3f5f"
          },
          "geo": {
           "bgcolor": "white",
           "lakecolor": "white",
           "landcolor": "#E5ECF6",
           "showlakes": true,
           "showland": true,
           "subunitcolor": "white"
          },
          "hoverlabel": {
           "align": "left"
          },
          "hovermode": "closest",
          "mapbox": {
           "style": "light"
          },
          "paper_bgcolor": "white",
          "plot_bgcolor": "#E5ECF6",
          "polar": {
           "angularaxis": {
            "gridcolor": "white",
            "linecolor": "white",
            "ticks": ""
           },
           "bgcolor": "#E5ECF6",
           "radialaxis": {
            "gridcolor": "white",
            "linecolor": "white",
            "ticks": ""
           }
          },
          "scene": {
           "xaxis": {
            "backgroundcolor": "#E5ECF6",
            "gridcolor": "white",
            "gridwidth": 2,
            "linecolor": "white",
            "showbackground": true,
            "ticks": "",
            "zerolinecolor": "white"
           },
           "yaxis": {
            "backgroundcolor": "#E5ECF6",
            "gridcolor": "white",
            "gridwidth": 2,
            "linecolor": "white",
            "showbackground": true,
            "ticks": "",
            "zerolinecolor": "white"
           },
           "zaxis": {
            "backgroundcolor": "#E5ECF6",
            "gridcolor": "white",
            "gridwidth": 2,
            "linecolor": "white",
            "showbackground": true,
            "ticks": "",
            "zerolinecolor": "white"
           }
          },
          "shapedefaults": {
           "line": {
            "color": "#2a3f5f"
           }
          },
          "ternary": {
           "aaxis": {
            "gridcolor": "white",
            "linecolor": "white",
            "ticks": ""
           },
           "baxis": {
            "gridcolor": "white",
            "linecolor": "white",
            "ticks": ""
           },
           "bgcolor": "#E5ECF6",
           "caxis": {
            "gridcolor": "white",
            "linecolor": "white",
            "ticks": ""
           }
          },
          "title": {
           "x": 0.05
          },
          "xaxis": {
           "automargin": true,
           "gridcolor": "white",
           "linecolor": "white",
           "ticks": "",
           "title": {
            "standoff": 15
           },
           "zerolinecolor": "white",
           "zerolinewidth": 2
          },
          "yaxis": {
           "automargin": true,
           "gridcolor": "white",
           "linecolor": "white",
           "ticks": "",
           "title": {
            "standoff": 15
           },
           "zerolinecolor": "white",
           "zerolinewidth": 2
          }
         }
        },
        "title": {
         "text": "Hourly distribution of fraudulent and non-fraudulent transactions"
        },
        "xaxis": {
         "title": {
          "text": "Hour"
         }
        },
        "yaxis": {
         "title": {
          "text": "Number of transactions"
         }
        }
       }
      }
     },
     "metadata": {},
     "output_type": "display_data"
    }
   ],
   "source": [
    "fig = go.Figure()\n",
    "fig.add_trace(go.Bar(x=fraud_hourly_distribution.index, y=fraud_hourly_distribution.values, name='Fraudulent transactions'))\n",
    "fig.add_trace(go.Bar(x=non_fraud_hourly_distribution.index, y=non_fraud_hourly_distribution.values, name='Non-fraudulent transactions'))\n",
    "fig.update_layout(title='Hourly distribution of fraudulent and non-fraudulent transactions', xaxis_title='Hour', yaxis_title='Number of transactions')\n",
    "fig.show()\n"
   ]
  },
  {
   "cell_type": "code",
   "execution_count": 16,
   "metadata": {},
   "outputs": [
    {
     "data": {
      "application/vnd.plotly.v1+json": {
       "config": {
        "plotlyServerURL": "https://plot.ly"
       },
       "data": [
        {
         "alignmentgroup": "True",
         "bingroup": "x",
         "hovertemplate": "Type=Fraudulent<br>Transaction Amount (€)=%{x}<br>count=%{y}<extra></extra>",
         "legendgroup": "Fraudulent",
         "marker": {
          "color": "red",
          "pattern": {
           "shape": ""
          }
         },
         "name": "Fraudulent",
         "nbinsx": 50,
         "offsetgroup": "Fraudulent",
         "orientation": "v",
         "showlegend": true,
         "type": "histogram",
         "x": [
          19.85,
          894.17,
          1061.53,
          397.85,
          382.23,
          891.91,
          867.69,
          9.26,
          441.87,
          544.83,
          21,
          253.83,
          450.79,
          381.6,
          451.89,
          432.48,
          14.47,
          2.89,
          9.65,
          24.12,
          4.82,
          6.75,
          14.47,
          33.76,
          2.82,
          917.03,
          641.22,
          824.09,
          612.25,
          814.26,
          641.57,
          230.12,
          862.25,
          124.44,
          605,
          614.18,
          407.61,
          407.16,
          604.99,
          623.42,
          185.32,
          183.06,
          30.17,
          389.06,
          368.07,
          181.13,
          240.55,
          604.16,
          801.66,
          -787.71,
          251.63,
          251.63,
          251.63,
          14.28,
          251.63,
          251.63,
          966.81,
          687.63,
          800.63,
          775.84,
          779.38,
          637.24,
          824.28,
          813.61,
          775.98,
          711.41,
          602.91,
          792.25,
          686.6,
          793.76,
          840.79,
          826.39,
          3292.93,
          802.72,
          922.12,
          936.27,
          802.94,
          811.93,
          1024.32,
          873.87,
          887.91,
          793.59,
          789.82,
          861.63,
          878.78,
          982.84,
          868.36,
          879.51,
          866.38,
          148.24,
          795.98,
          555.2,
          40,
          40,
          40,
          40,
          40,
          923.36,
          1818.91,
          913.6,
          201.26,
          1017.1,
          926.38,
          352.44,
          457.99,
          11.23,
          468.18,
          873.5,
          929.55,
          915.48,
          926.94,
          609.39,
          905.1,
          747.09,
          748.64,
          606.82,
          1366.34,
          404.91,
          634.4,
          1383.62,
          870.95,
          646.85,
          621.08,
          2813.63,
          7.51,
          186.75,
          7.47,
          277.51,
          2.99,
          651.18,
          150.13,
          716.62,
          866.71,
          583.82,
          491.54,
          891.75,
          78.69,
          37.13,
          1153.31,
          120.58,
          385.86,
          168.81,
          241.16,
          578.78,
          901.38,
          415.97,
          670.59,
          624.63,
          393.38,
          638.54,
          256.7,
          409.38,
          411.84,
          760.94,
          261.99,
          893.08,
          259.58,
          629.04,
          -259.52,
          -622.02,
          -757.35,
          -258.36,
          -886.76,
          -261.78,
          -639.43,
          100,
          100,
          1025.98,
          387.17,
          61.37,
          236.66,
          196.17,
          186.39,
          214.12,
          315.9,
          341.86,
          350.59,
          350.23,
          262.93,
          421.53,
          420.7,
          601.27,
          145.52,
          148.65,
          113.58,
          226.06,
          32.46,
          32.53,
          46.38,
          69.29,
          350,
          1333.93,
          1047.35,
          363.49,
          26.48,
          110.57,
          832.61,
          623.49,
          786.32,
          31.04,
          579.5,
          734.13,
          750.68,
          780.33,
          818.54,
          786.72,
          608.74,
          831.08,
          417.01,
          837.24,
          840.23,
          586.43,
          589.95,
          819.99,
          822.19,
          801.86,
          -800.59,
          757.73,
          2586.03,
          802.72,
          350,
          500,
          750,
          750,
          750,
          750,
          750,
          750,
          402.57,
          870.66,
          30,
          30,
          888.16,
          944.7,
          242.37,
          199.58,
          591.79,
          31.59,
          118.64,
          594.39,
          139.42,
          2710.47,
          803.86,
          860.52,
          935.99,
          -813.24,
          179.92,
          872.86,
          209.02,
          3.86,
          238.61,
          768.82,
          267.67,
          614.88,
          647.65,
          974.28,
          752.36,
          12.8,
          12.37,
          12.34,
          818.43,
          563.51,
          676.38,
          115.6,
          162.79,
          393.83,
          803.08,
          561.1,
          874.74,
          786.21,
          854.8,
          842.44,
          875.46,
          926.29,
          843.95,
          797.13,
          380,
          888.3,
          794.96,
          771.73,
          795.26,
          924.72,
          557.98,
          908.28,
          894.08,
          376.4,
          240.07,
          638.27,
          559.27,
          623.88,
          638.53,
          493.75,
          279.52,
          1.27,
          62.79,
          65.42,
          64.47,
          264.59,
          0.98,
          20.45,
          1237.84,
          646.6,
          1708.3,
          915.34,
          815.56,
          1500.99,
          565.46,
          3569.26,
          865.49,
          729.63,
          866.6,
          410.19,
          717.3,
          860.74,
          924.34,
          831.13,
          554.49,
          539.25,
          612.65,
          587.49,
          890.67,
          25.15,
          386.93,
          600,
          600,
          350,
          906.41,
          595.96,
          299.39,
          840.42,
          894.78,
          860.66,
          444.49,
          1588,
          1020.42,
          212.35,
          416.74,
          1200.68,
          518.27,
          85.71,
          443.15,
          1253.86,
          94.57,
          268.55,
          0.04,
          3.73,
          1.04,
          1.14,
          328.74,
          254.28,
          905.71,
          119.23,
          3.79,
          94.12,
          110.89,
          49.74,
          -615.75,
          -904.51,
          -590.82,
          243.48,
          865.72,
          0.4,
          1006.71,
          951.11,
          809.19,
          944.36,
          -998.85,
          -956.52,
          -812.01,
          200,
          846.79,
          927.14,
          1018.33,
          748.87,
          853.59,
          863.82,
          814.95,
          779.97,
          532.44,
          496.41,
          866.93,
          783.2,
          981.64,
          814.02,
          784,
          769.63,
          443.57,
          353.5,
          849.56,
          470.4,
          849.56,
          161.74,
          398.68,
          886.24,
          357.15,
          350.82,
          850,
          852.67,
          404.42,
          407.04,
          403.59,
          955.32,
          795.48,
          789.09,
          958.77,
          859.99,
          25.22,
          447.06,
          507.69,
          398.93,
          804.93,
          747.82,
          1050.21,
          843.18,
          937.35,
          517.24,
          370.54,
          937.88,
          900.18,
          828.44,
          940.27,
          703.29,
          329.93,
          473.91,
          815.78,
          931.47,
          750.82,
          758.63,
          30,
          7.67,
          42,
          37.77,
          330.44,
          489.43,
          920.84,
          591.12,
          306.35,
          -925.12,
          395.94,
          251.66,
          636.21,
          389.34,
          397.7,
          391.45,
          621.58,
          212.97,
          166.75,
          333.85,
          485.23,
          353.98,
          953.14,
          909.4,
          775.2,
          364.13,
          351.37,
          809.15,
          346.7,
          55.2,
          47.87,
          902.39,
          150,
          360.24,
          100,
          162.81,
          225,
          350,
          959.62,
          913.72,
          761.74,
          641.4,
          684.7,
          966.36,
          1053.18,
          625.21,
          800.85,
          884.34,
          984.76,
          3.09,
          225.19,
          622.69,
          391.7,
          827.07,
          894.14,
          621.64,
          886.98,
          398.79,
          231.27,
          258.13,
          603.48,
          605.64,
          387.45,
          70,
          441.87,
          957.77,
          1280.48,
          1022.53,
          642.43,
          948.41,
          399.52,
          414.46,
          606.57,
          808.63,
          815.05,
          406.84,
          750.02,
          902.35,
          901.18,
          398.64,
          256.35,
          393.25,
          861.02,
          868.18,
          885.13,
          590.96,
          401.64,
          398.78,
          495.05,
          521.06,
          822.34,
          927.39,
          32.21,
          903,
          714.3,
          881.99,
          1149.58,
          882.67,
          980.95,
          536.18,
          594.21,
          1099.53,
          709.33,
          842.32,
          208.07,
          500.32,
          70,
          100,
          750.16,
          398.79,
          398.79,
          750,
          890.08,
          593.58,
          932.88,
          665.53,
          909.78,
          927.73,
          912.22,
          938.32,
          436.93,
          916.75,
          951.79,
          150,
          150,
          150,
          12,
          12,
          12,
          9,
          4,
          2,
          6,
          2,
          1.5,
          1.5,
          1.5,
          40,
          12,
          20,
          30,
          93.37,
          70,
          100,
          150,
          225,
          350,
          471.68,
          958.36,
          842.91,
          231.55,
          330.36,
          908.71,
          615.34,
          889.13,
          895.66,
          556.54,
          -234.3,
          -334.29,
          -902.01,
          -903.85,
          419.38,
          925.81,
          463.5,
          422.97,
          600.72,
          391.82,
          892.2,
          436.75,
          608.83,
          613.11,
          404.14,
          874.15,
          1031.52,
          904.33,
          180.26,
          853.19,
          673.18,
          777.58,
          875.33,
          361.28,
          616.2,
          621.31,
          601.99,
          1025.45,
          -1000.72,
          890.47,
          1832.35,
          628.5,
          535.53,
          1169.47,
          911.12,
          860.39,
          981.41,
          938.41,
          904.21,
          941.28,
          946.86,
          20,
          20,
          30,
          40,
          939.12,
          864.67,
          930.44,
          371.27,
          904.15,
          975.26,
          1023.73,
          960.78,
          858.82,
          634.52,
          909.05,
          5176.05,
          844.01,
          1163.02,
          880.95,
          853.86,
          864.28,
          832.79,
          -851.25,
          6.77,
          847.13,
          881.19,
          999.7,
          786.5,
          552.09,
          830.87,
          947.62,
          3330.8,
          780.75,
          859.42,
          615.16,
          862.02,
          10.01,
          886.67,
          898.31,
          665.55,
          1914.25,
          1697.51,
          819.45,
          10093.74,
          836.4,
          795.44,
          939.78,
          910.36,
          862.09,
          310.67,
          500,
          529.81,
          908.51,
          350,
          750,
          905.1,
          42.99,
          518.69,
          -900.9,
          -528.42,
          -568.65,
          869.23,
          478.91,
          2554.88,
          394.82,
          777.23,
          225,
          225,
          225,
          208.75,
          96.54,
          295.21,
          414.62,
          731.12,
          418.33,
          611.55,
          243.63,
          893.49,
          919.49,
          678.26,
          399.58,
          622.05,
          874.63,
          613.23,
          834.96,
          1309.33,
          731.29,
          968.54,
          985.84,
          937.17,
          0.52,
          79.94,
          1023.21,
          865.21,
          868.78,
          870.87,
          863.36,
          40.75,
          19.77,
          811.48,
          812.63,
          173.97,
          251.67,
          50.67,
          60.18,
          572.35,
          908.42,
          5644.16,
          862,
          918.1,
          887.51,
          900.87,
          840.69,
          868.88,
          386.1,
          751.57,
          846.1,
          825.4,
          1024.56,
          887.56,
          491.33,
          100.51,
          899.97,
          1368.24,
          928.03,
          890.76,
          932.64,
          868.96,
          977.49,
          983.51,
          884.46,
          922.78,
          2153.86,
          2921.63,
          639.94,
          396.42,
          652.84,
          622.72,
          1388.47,
          401.97,
          4012.17,
          314.26,
          3728.62,
          924.97,
          5348.01,
          801.12,
          667.04,
          975.55,
          865.73,
          711.92,
          799.77,
          656,
          905.4,
          871.37,
          748.95,
          179.13,
          840.74,
          852.49,
          796.24,
          2.45,
          211.26,
          856.18,
          137.61,
          150,
          150,
          225,
          30,
          350,
          350,
          40,
          881.22,
          855.8,
          885.79,
          901.61,
          785.98,
          836.15,
          808.33,
          712.2,
          807.01,
          796.66,
          849.17,
          745.12,
          829.06,
          349.48,
          350,
          480,
          480,
          480,
          600,
          530.76,
          851.81,
          937.11,
          871.1,
          946.83,
          2.8,
          4.05,
          110.47,
          915.76,
          972.48,
          987.74,
          658.29,
          610.32,
          72.31,
          869.86,
          889.92,
          987.3,
          925.89,
          923.81,
          863.68,
          600.15,
          905.92,
          814.42,
          409.34,
          933.76,
          944.93,
          597.06,
          856.21,
          622.67,
          977.52,
          795.96,
          804.51,
          795.9,
          997.68,
          863.48,
          819.98,
          826.14,
          790.01,
          836.72,
          804.27,
          791.5,
          815.28,
          1015.69,
          863.1,
          -804.27,
          -845.22,
          -823.55,
          -799.53,
          -1012.58,
          -987.44,
          -804.04,
          -812.68,
          -803.98,
          -828.31,
          -834.53,
          -991.8,
          -858.39,
          -858.01,
          869.27,
          369.52,
          755.01,
          880.49,
          396.67,
          880.61,
          1285.03,
          282.01,
          334.47,
          829.19,
          619.71,
          100,
          70,
          70,
          70,
          150,
          970.85,
          1026.48,
          229.4,
          3379.51,
          389.08,
          237.66,
          201.06,
          245.09,
          415.02,
          820.76,
          415.53,
          214.74,
          184.38,
          936.11,
          872.39,
          300,
          907.31,
          922.96,
          4898.84,
          835.49,
          879.49,
          817.51,
          935.81,
          841.02,
          775.3,
          829.82,
          915.98,
          947.11,
          500,
          750,
          750,
          750,
          750,
          296.43,
          500.63,
          176.39,
          896.5,
          821.02,
          924.32,
          754.74,
          987.63,
          0.4,
          869.02,
          939.21,
          1.5,
          1.5,
          30,
          1.5,
          40,
          9,
          6,
          4,
          2,
          12,
          2,
          20,
          40,
          70,
          100,
          150,
          225,
          0.92,
          9,
          9,
          2,
          1.5,
          20,
          4,
          1.5,
          9,
          30,
          2.79,
          40,
          6,
          12,
          40,
          6,
          1.5,
          70,
          350,
          150,
          100,
          225,
          501.28,
          751.83,
          750,
          750,
          750,
          751.3,
          716.9,
          505.1,
          163.21,
          1.5,
          1.5,
          9,
          9,
          2,
          1.94,
          30,
          5.14,
          6,
          12,
          20,
          100,
          4,
          4,
          4,
          70,
          40,
          40,
          6,
          6,
          150,
          225,
          20,
          12,
          2.17,
          9,
          30,
          9,
          12,
          150,
          40,
          100,
          40,
          70,
          500,
          500,
          12,
          500,
          20,
          30,
          70,
          100,
          150,
          502.63,
          350,
          500,
          113.21,
          500,
          500,
          500,
          500,
          500,
          500,
          500,
          500,
          500,
          500,
          500,
          500,
          500,
          500,
          500,
          500,
          500,
          500,
          500,
          500,
          500,
          500,
          500,
          500,
          500,
          500,
          500,
          500,
          750,
          750,
          500,
          750,
          750,
          500,
          508.99,
          750,
          750,
          750,
          750,
          750,
          750,
          750,
          750,
          750,
          750,
          750,
          750,
          750,
          750,
          750,
          750.08,
          834.13,
          750,
          750,
          750,
          269.17,
          185.49,
          331.84,
          296.15,
          712.66,
          1.5,
          1.5,
          1.5,
          1.5,
          2,
          750,
          822.84,
          1020.85,
          465.46,
          839.32,
          1007.06,
          993.47,
          906.81,
          831.79,
          903,
          760.55,
          861.54,
          363.58,
          465.02,
          970.79,
          956.54,
          957.86,
          942.4,
          992.56,
          444.27,
          281.87,
          921.39,
          919.97,
          919.24,
          222.56,
          941.26,
          951.73,
          467.18,
          370.66,
          409.44,
          971.16,
          989.61,
          909.27,
          850.62,
          484.34,
          820.74,
          923.11,
          895.43,
          898.26,
          355.43,
          116.29,
          33.38,
          190.18,
          2.35,
          104.66,
          6.57,
          105.8,
          246.03,
          135.56,
          97.85,
          113.67,
          16.57,
          252.43,
          98.03,
          12.88,
          613.16,
          631.73,
          641.49,
          631.73,
          383.51,
          924.71,
          800.7,
          828.97,
          506.01,
          592.41,
          870.21,
          616.19,
          881.04,
          864.88,
          863.31,
          750,
          750,
          792.58,
          879.47,
          873.15,
          894.05,
          776.81,
          578.72,
          882.91,
          834.63,
          791.09,
          485.69,
          900,
          887.33,
          637.53,
          933.83,
          289.91,
          613.87,
          642.23,
          425.84,
          629.16,
          626.69,
          826.09,
          889.6,
          620.36,
          883.84,
          918.39,
          5081.12,
          911,
          752.11,
          910.09,
          758.84,
          972.97,
          627.17,
          425.86,
          601.99,
          861.96,
          817.47,
          381.55,
          219.78,
          231.24,
          191.15,
          576.49,
          414.63,
          271.7,
          230.81,
          182.57,
          125.63,
          900.68,
          917.76,
          902.73,
          879.92,
          804.23,
          807.3,
          5026.24,
          1956.53,
          846.57,
          814.11,
          2110.7,
          2019.08,
          872.2,
          850.28,
          507.7,
          801.01,
          147.33,
          526.05,
          597.95,
          281.7,
          617.33,
          267.36,
          602.22,
          879.61,
          343.42,
          27.6,
          371.95,
          296.89,
          1013.78,
          1022.98,
          5129.43,
          953.9,
          896.78,
          935.09,
          890.39,
          803.87,
          815.38,
          895.62,
          646.99,
          787.47,
          669.03,
          841.52,
          475.74,
          3250.04,
          283.32,
          175.07,
          185.53,
          388.41,
          631.98,
          887.04,
          412.35,
          140.97,
          943.41,
          640.72,
          821.04,
          883.8,
          621.77,
          626.91,
          430.83,
          592.44,
          961.13,
          1.93,
          -877.56,
          -1.92,
          394.14,
          240.15,
          222.6,
          353.74,
          824.66,
          378.18,
          388.47,
          408.1,
          677.71,
          886.89,
          682.65,
          588.84,
          164.48,
          587.94,
          658.49,
          625.23,
          886.72,
          500.6,
          901.36,
          901.15,
          100,
          8.74,
          100,
          0.03,
          0.07,
          934.09,
          3402.32,
          1110.9,
          801.54,
          1062.48,
          801.98,
          1800.84,
          789.19,
          798.43,
          801.52,
          360.35,
          942.96,
          404.37,
          0.1,
          0.29,
          3516.99,
          847.51,
          58.38,
          391.37,
          647.62,
          794.1,
          527.95,
          860,
          614.55,
          528.32,
          612.49,
          905.33,
          873.19,
          500.36,
          607.06,
          906.23,
          387.31,
          870.01,
          951.77,
          750.02,
          500.21,
          905.05,
          750.46,
          904.81,
          899.48,
          617.02,
          902.01,
          900.9,
          633.54,
          900.9,
          775.09,
          814.76,
          50.83,
          880.9,
          350.7,
          895.99,
          912.69,
          370.12,
          903.36,
          988.97,
          778.88,
          884.34,
          770.25,
          590.06,
          985.06,
          966.77,
          841.58,
          865.71,
          850,
          850,
          850,
          850,
          901.2,
          915.24,
          622.71,
          601.11,
          397.86,
          407.59,
          607.58,
          758.95,
          403.5,
          595.68,
          929.83,
          400.57,
          948.23,
          20,
          20,
          30,
          40,
          20,
          20,
          70,
          20,
          20,
          20,
          20,
          20
         ],
         "xaxis": "x",
         "yaxis": "y"
        }
       ],
       "layout": {
        "barmode": "relative",
        "legend": {
         "title": {
          "text": "Transaction Type"
         },
         "tracegroupgap": 0
        },
        "template": {
         "data": {
          "bar": [
           {
            "error_x": {
             "color": "#2a3f5f"
            },
            "error_y": {
             "color": "#2a3f5f"
            },
            "marker": {
             "line": {
              "color": "#E5ECF6",
              "width": 0.5
             },
             "pattern": {
              "fillmode": "overlay",
              "size": 10,
              "solidity": 0.2
             }
            },
            "type": "bar"
           }
          ],
          "barpolar": [
           {
            "marker": {
             "line": {
              "color": "#E5ECF6",
              "width": 0.5
             },
             "pattern": {
              "fillmode": "overlay",
              "size": 10,
              "solidity": 0.2
             }
            },
            "type": "barpolar"
           }
          ],
          "carpet": [
           {
            "aaxis": {
             "endlinecolor": "#2a3f5f",
             "gridcolor": "white",
             "linecolor": "white",
             "minorgridcolor": "white",
             "startlinecolor": "#2a3f5f"
            },
            "baxis": {
             "endlinecolor": "#2a3f5f",
             "gridcolor": "white",
             "linecolor": "white",
             "minorgridcolor": "white",
             "startlinecolor": "#2a3f5f"
            },
            "type": "carpet"
           }
          ],
          "choropleth": [
           {
            "colorbar": {
             "outlinewidth": 0,
             "ticks": ""
            },
            "type": "choropleth"
           }
          ],
          "contour": [
           {
            "colorbar": {
             "outlinewidth": 0,
             "ticks": ""
            },
            "colorscale": [
             [
              0,
              "#0d0887"
             ],
             [
              0.1111111111111111,
              "#46039f"
             ],
             [
              0.2222222222222222,
              "#7201a8"
             ],
             [
              0.3333333333333333,
              "#9c179e"
             ],
             [
              0.4444444444444444,
              "#bd3786"
             ],
             [
              0.5555555555555556,
              "#d8576b"
             ],
             [
              0.6666666666666666,
              "#ed7953"
             ],
             [
              0.7777777777777778,
              "#fb9f3a"
             ],
             [
              0.8888888888888888,
              "#fdca26"
             ],
             [
              1,
              "#f0f921"
             ]
            ],
            "type": "contour"
           }
          ],
          "contourcarpet": [
           {
            "colorbar": {
             "outlinewidth": 0,
             "ticks": ""
            },
            "type": "contourcarpet"
           }
          ],
          "heatmap": [
           {
            "colorbar": {
             "outlinewidth": 0,
             "ticks": ""
            },
            "colorscale": [
             [
              0,
              "#0d0887"
             ],
             [
              0.1111111111111111,
              "#46039f"
             ],
             [
              0.2222222222222222,
              "#7201a8"
             ],
             [
              0.3333333333333333,
              "#9c179e"
             ],
             [
              0.4444444444444444,
              "#bd3786"
             ],
             [
              0.5555555555555556,
              "#d8576b"
             ],
             [
              0.6666666666666666,
              "#ed7953"
             ],
             [
              0.7777777777777778,
              "#fb9f3a"
             ],
             [
              0.8888888888888888,
              "#fdca26"
             ],
             [
              1,
              "#f0f921"
             ]
            ],
            "type": "heatmap"
           }
          ],
          "heatmapgl": [
           {
            "colorbar": {
             "outlinewidth": 0,
             "ticks": ""
            },
            "colorscale": [
             [
              0,
              "#0d0887"
             ],
             [
              0.1111111111111111,
              "#46039f"
             ],
             [
              0.2222222222222222,
              "#7201a8"
             ],
             [
              0.3333333333333333,
              "#9c179e"
             ],
             [
              0.4444444444444444,
              "#bd3786"
             ],
             [
              0.5555555555555556,
              "#d8576b"
             ],
             [
              0.6666666666666666,
              "#ed7953"
             ],
             [
              0.7777777777777778,
              "#fb9f3a"
             ],
             [
              0.8888888888888888,
              "#fdca26"
             ],
             [
              1,
              "#f0f921"
             ]
            ],
            "type": "heatmapgl"
           }
          ],
          "histogram": [
           {
            "marker": {
             "pattern": {
              "fillmode": "overlay",
              "size": 10,
              "solidity": 0.2
             }
            },
            "type": "histogram"
           }
          ],
          "histogram2d": [
           {
            "colorbar": {
             "outlinewidth": 0,
             "ticks": ""
            },
            "colorscale": [
             [
              0,
              "#0d0887"
             ],
             [
              0.1111111111111111,
              "#46039f"
             ],
             [
              0.2222222222222222,
              "#7201a8"
             ],
             [
              0.3333333333333333,
              "#9c179e"
             ],
             [
              0.4444444444444444,
              "#bd3786"
             ],
             [
              0.5555555555555556,
              "#d8576b"
             ],
             [
              0.6666666666666666,
              "#ed7953"
             ],
             [
              0.7777777777777778,
              "#fb9f3a"
             ],
             [
              0.8888888888888888,
              "#fdca26"
             ],
             [
              1,
              "#f0f921"
             ]
            ],
            "type": "histogram2d"
           }
          ],
          "histogram2dcontour": [
           {
            "colorbar": {
             "outlinewidth": 0,
             "ticks": ""
            },
            "colorscale": [
             [
              0,
              "#0d0887"
             ],
             [
              0.1111111111111111,
              "#46039f"
             ],
             [
              0.2222222222222222,
              "#7201a8"
             ],
             [
              0.3333333333333333,
              "#9c179e"
             ],
             [
              0.4444444444444444,
              "#bd3786"
             ],
             [
              0.5555555555555556,
              "#d8576b"
             ],
             [
              0.6666666666666666,
              "#ed7953"
             ],
             [
              0.7777777777777778,
              "#fb9f3a"
             ],
             [
              0.8888888888888888,
              "#fdca26"
             ],
             [
              1,
              "#f0f921"
             ]
            ],
            "type": "histogram2dcontour"
           }
          ],
          "mesh3d": [
           {
            "colorbar": {
             "outlinewidth": 0,
             "ticks": ""
            },
            "type": "mesh3d"
           }
          ],
          "parcoords": [
           {
            "line": {
             "colorbar": {
              "outlinewidth": 0,
              "ticks": ""
             }
            },
            "type": "parcoords"
           }
          ],
          "pie": [
           {
            "automargin": true,
            "type": "pie"
           }
          ],
          "scatter": [
           {
            "fillpattern": {
             "fillmode": "overlay",
             "size": 10,
             "solidity": 0.2
            },
            "type": "scatter"
           }
          ],
          "scatter3d": [
           {
            "line": {
             "colorbar": {
              "outlinewidth": 0,
              "ticks": ""
             }
            },
            "marker": {
             "colorbar": {
              "outlinewidth": 0,
              "ticks": ""
             }
            },
            "type": "scatter3d"
           }
          ],
          "scattercarpet": [
           {
            "marker": {
             "colorbar": {
              "outlinewidth": 0,
              "ticks": ""
             }
            },
            "type": "scattercarpet"
           }
          ],
          "scattergeo": [
           {
            "marker": {
             "colorbar": {
              "outlinewidth": 0,
              "ticks": ""
             }
            },
            "type": "scattergeo"
           }
          ],
          "scattergl": [
           {
            "marker": {
             "colorbar": {
              "outlinewidth": 0,
              "ticks": ""
             }
            },
            "type": "scattergl"
           }
          ],
          "scattermapbox": [
           {
            "marker": {
             "colorbar": {
              "outlinewidth": 0,
              "ticks": ""
             }
            },
            "type": "scattermapbox"
           }
          ],
          "scatterpolar": [
           {
            "marker": {
             "colorbar": {
              "outlinewidth": 0,
              "ticks": ""
             }
            },
            "type": "scatterpolar"
           }
          ],
          "scatterpolargl": [
           {
            "marker": {
             "colorbar": {
              "outlinewidth": 0,
              "ticks": ""
             }
            },
            "type": "scatterpolargl"
           }
          ],
          "scatterternary": [
           {
            "marker": {
             "colorbar": {
              "outlinewidth": 0,
              "ticks": ""
             }
            },
            "type": "scatterternary"
           }
          ],
          "surface": [
           {
            "colorbar": {
             "outlinewidth": 0,
             "ticks": ""
            },
            "colorscale": [
             [
              0,
              "#0d0887"
             ],
             [
              0.1111111111111111,
              "#46039f"
             ],
             [
              0.2222222222222222,
              "#7201a8"
             ],
             [
              0.3333333333333333,
              "#9c179e"
             ],
             [
              0.4444444444444444,
              "#bd3786"
             ],
             [
              0.5555555555555556,
              "#d8576b"
             ],
             [
              0.6666666666666666,
              "#ed7953"
             ],
             [
              0.7777777777777778,
              "#fb9f3a"
             ],
             [
              0.8888888888888888,
              "#fdca26"
             ],
             [
              1,
              "#f0f921"
             ]
            ],
            "type": "surface"
           }
          ],
          "table": [
           {
            "cells": {
             "fill": {
              "color": "#EBF0F8"
             },
             "line": {
              "color": "white"
             }
            },
            "header": {
             "fill": {
              "color": "#C8D4E3"
             },
             "line": {
              "color": "white"
             }
            },
            "type": "table"
           }
          ]
         },
         "layout": {
          "annotationdefaults": {
           "arrowcolor": "#2a3f5f",
           "arrowhead": 0,
           "arrowwidth": 1
          },
          "autotypenumbers": "strict",
          "coloraxis": {
           "colorbar": {
            "outlinewidth": 0,
            "ticks": ""
           }
          },
          "colorscale": {
           "diverging": [
            [
             0,
             "#8e0152"
            ],
            [
             0.1,
             "#c51b7d"
            ],
            [
             0.2,
             "#de77ae"
            ],
            [
             0.3,
             "#f1b6da"
            ],
            [
             0.4,
             "#fde0ef"
            ],
            [
             0.5,
             "#f7f7f7"
            ],
            [
             0.6,
             "#e6f5d0"
            ],
            [
             0.7,
             "#b8e186"
            ],
            [
             0.8,
             "#7fbc41"
            ],
            [
             0.9,
             "#4d9221"
            ],
            [
             1,
             "#276419"
            ]
           ],
           "sequential": [
            [
             0,
             "#0d0887"
            ],
            [
             0.1111111111111111,
             "#46039f"
            ],
            [
             0.2222222222222222,
             "#7201a8"
            ],
            [
             0.3333333333333333,
             "#9c179e"
            ],
            [
             0.4444444444444444,
             "#bd3786"
            ],
            [
             0.5555555555555556,
             "#d8576b"
            ],
            [
             0.6666666666666666,
             "#ed7953"
            ],
            [
             0.7777777777777778,
             "#fb9f3a"
            ],
            [
             0.8888888888888888,
             "#fdca26"
            ],
            [
             1,
             "#f0f921"
            ]
           ],
           "sequentialminus": [
            [
             0,
             "#0d0887"
            ],
            [
             0.1111111111111111,
             "#46039f"
            ],
            [
             0.2222222222222222,
             "#7201a8"
            ],
            [
             0.3333333333333333,
             "#9c179e"
            ],
            [
             0.4444444444444444,
             "#bd3786"
            ],
            [
             0.5555555555555556,
             "#d8576b"
            ],
            [
             0.6666666666666666,
             "#ed7953"
            ],
            [
             0.7777777777777778,
             "#fb9f3a"
            ],
            [
             0.8888888888888888,
             "#fdca26"
            ],
            [
             1,
             "#f0f921"
            ]
           ]
          },
          "colorway": [
           "#636efa",
           "#EF553B",
           "#00cc96",
           "#ab63fa",
           "#FFA15A",
           "#19d3f3",
           "#FF6692",
           "#B6E880",
           "#FF97FF",
           "#FECB52"
          ],
          "font": {
           "color": "#2a3f5f"
          },
          "geo": {
           "bgcolor": "white",
           "lakecolor": "white",
           "landcolor": "#E5ECF6",
           "showlakes": true,
           "showland": true,
           "subunitcolor": "white"
          },
          "hoverlabel": {
           "align": "left"
          },
          "hovermode": "closest",
          "mapbox": {
           "style": "light"
          },
          "paper_bgcolor": "white",
          "plot_bgcolor": "#E5ECF6",
          "polar": {
           "angularaxis": {
            "gridcolor": "white",
            "linecolor": "white",
            "ticks": ""
           },
           "bgcolor": "#E5ECF6",
           "radialaxis": {
            "gridcolor": "white",
            "linecolor": "white",
            "ticks": ""
           }
          },
          "scene": {
           "xaxis": {
            "backgroundcolor": "#E5ECF6",
            "gridcolor": "white",
            "gridwidth": 2,
            "linecolor": "white",
            "showbackground": true,
            "ticks": "",
            "zerolinecolor": "white"
           },
           "yaxis": {
            "backgroundcolor": "#E5ECF6",
            "gridcolor": "white",
            "gridwidth": 2,
            "linecolor": "white",
            "showbackground": true,
            "ticks": "",
            "zerolinecolor": "white"
           },
           "zaxis": {
            "backgroundcolor": "#E5ECF6",
            "gridcolor": "white",
            "gridwidth": 2,
            "linecolor": "white",
            "showbackground": true,
            "ticks": "",
            "zerolinecolor": "white"
           }
          },
          "shapedefaults": {
           "line": {
            "color": "#2a3f5f"
           }
          },
          "ternary": {
           "aaxis": {
            "gridcolor": "white",
            "linecolor": "white",
            "ticks": ""
           },
           "baxis": {
            "gridcolor": "white",
            "linecolor": "white",
            "ticks": ""
           },
           "bgcolor": "#E5ECF6",
           "caxis": {
            "gridcolor": "white",
            "linecolor": "white",
            "ticks": ""
           }
          },
          "title": {
           "x": 0.05
          },
          "xaxis": {
           "automargin": true,
           "gridcolor": "white",
           "linecolor": "white",
           "ticks": "",
           "title": {
            "standoff": 15
           },
           "zerolinecolor": "white",
           "zerolinewidth": 2
          },
          "yaxis": {
           "automargin": true,
           "gridcolor": "white",
           "linecolor": "white",
           "ticks": "",
           "title": {
            "standoff": 15
           },
           "zerolinecolor": "white",
           "zerolinewidth": 2
          }
         }
        },
        "title": {
         "text": "Distribution of Transaction Amounts: Fraud"
        },
        "xaxis": {
         "anchor": "y",
         "domain": [
          0,
          1
         ],
         "title": {
          "text": "Transaction Amount (€)"
         }
        },
        "yaxis": {
         "anchor": "x",
         "domain": [
          0,
          1
         ],
         "title": {
          "text": "Frequency"
         }
        }
       }
      }
     },
     "metadata": {},
     "output_type": "display_data"
    }
   ],
   "source": [
    "fraudulent_transactions = data[data['is_fraud'] == 1]['movement_amount_euros']\n",
    "plot_data = pd.DataFrame({\n",
    "    \"Transaction Amount (€)\": fraudulent_transactions,\n",
    "    \"Type\": ['Fraudulent'] * len(fraudulent_transactions)\n",
    "})\n",
    "\n",
    "fig = px.histogram(plot_data, \n",
    "                   x=\"Transaction Amount (€)\", \n",
    "                   color=\"Type\",\n",
    "                   nbins=50,  \n",
    "                   title=\"Distribution of Transaction Amounts: Fraud\",\n",
    "                   color_discrete_map={\"Fraudulent\": \"red\", \"Non-Fraudulent\": \"blue\"})\n",
    "\n",
    "fig.update_layout(\n",
    "    xaxis_title=\"Transaction Amount (€)\",\n",
    "    yaxis_title=\"Frequency\",\n",
    "    legend_title=\"Transaction Type\"\n",
    ")\n",
    "\n",
    "fig.show()"
   ]
  },
  {
   "cell_type": "code",
   "execution_count": 20,
   "metadata": {},
   "outputs": [
    {
     "name": "stdout",
     "output_type": "stream",
     "text": [
      "counterparty_country_code\n",
      "CA    0.013333\n",
      "IE    0.002636\n",
      "US    0.000575\n",
      "Name: is_fraud, dtype: float64\n"
     ]
    },
    {
     "data": {
      "image/png": "[encoded data removed]",
      "text/plain": [
       "<Figure size 1000x600 with 1 Axes>"
      ]
     },
     "metadata": {},
     "output_type": "display_data"
    }
   ],
   "source": [
    "fraud_rate_by_country1 = data.groupby('counterparty_country_code')['is_fraud'].mean()\n",
    "thereshold = 0.0001\n",
    "fraud_rate_by_country = fraud_rate_by_country1[fraud_rate_by_country1 > thereshold]\n",
    "print(fraud_rate_by_country)\n",
    "plt.figure(figsize=(10, 6))\n",
    "fraud_rate_by_country1.plot(kind='bar', color='green')\n",
    "plt.title('Fraud Rate by Counterparty Country')\n",
    "plt.xlabel('Country Code')\n",
    "plt.ylabel('Fraud Rate')\n",
    "plt.show()\n"
   ]
  }
 ],
 "metadata": {
  "kernelspec": {
   "display_name": "Python 3",
   "language": "python",
   "name": "python3"
  },
  "language_info": {
   "codemirror_mode": {
    "name": "ipython",
    "version": 3
   },
   "file_extension": ".py",
   "mimetype": "text/x-python",
   "name": "python",
   "nbconvert_exporter": "python",
   "pygments_lexer": "ipython3",
   "version": "3.11.9"
  }
 },
 "nbformat": 4,
 "nbformat_minor": 2
}
